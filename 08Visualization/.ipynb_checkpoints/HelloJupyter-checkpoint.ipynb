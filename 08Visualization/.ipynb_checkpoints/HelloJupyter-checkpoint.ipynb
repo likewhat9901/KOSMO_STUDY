{
 "cells": [
  {
   "cell_type": "code",
   "execution_count": 14,
   "id": "17af28af-90ff-4580-8906-80422024ab6a",
   "metadata": {},
   "outputs": [
    {
     "name": "stdout",
     "output_type": "stream",
     "text": [
      "Hello jupyter 내용변경\n"
     ]
    }
   ],
   "source": [
    "print('Hello jupyter 내용변경')"
   ]
  },
  {
   "cell_type": "code",
   "execution_count": 24,
   "id": "07b3b932-faae-4b59-887c-055cf760532e",
   "metadata": {},
   "outputs": [
    {
     "name": "stdout",
     "output_type": "stream",
     "text": [
      "ctrl + enter\n"
     ]
    }
   ],
   "source": [
    "print(\"ctrl + enter\")\n",
    "# 현재 셀 실행하기. 셀의 이동 없음"
   ]
  },
  {
   "cell_type": "code",
   "execution_count": 25,
   "id": "0056332b-579e-4d8a-9988-9d86f0a7a6d0",
   "metadata": {},
   "outputs": [
    {
     "name": "stdout",
     "output_type": "stream",
     "text": [
      "shift + enter\n"
     ]
    }
   ],
   "source": [
    "print(\"shift + enter\")\n",
    "# 현재 셀 실행 후 다음 셀로 이동하기. 만약 다음 셀이 없다면 생성.\n",
    "# 다음 셀이 있다면 포커스만 이동."
   ]
  },
  {
   "cell_type": "code",
   "execution_count": 28,
   "id": "9fb8e430-a7ca-46c6-bd76-bd0675a5e3bc",
   "metadata": {},
   "outputs": [
    {
     "name": "stdout",
     "output_type": "stream",
     "text": [
      "alt + enter\n"
     ]
    },
    {
     "data": {
      "text/plain": [
       "'\\n현재 셀을 실행한 후 다음 셀을 생성.\\n만약 다음 셀이 있다면 중간에 새로운 셀을 삽입.\\n'"
      ]
     },
     "execution_count": 28,
     "metadata": {},
     "output_type": "execute_result"
    }
   ],
   "source": [
    "print(\"alt + enter\")\n",
    "'''\n",
    "현재 셀을 실행한 후 다음 셀을 생성.\n",
    "만약 다음 셀이 있다면 중간에 새로운 셀을 삽입.\n",
    "'''"
   ]
  },
  {
   "cell_type": "code",
   "execution_count": null,
   "id": "8779a2a8-0808-44ff-8817-7a2ee62745b4",
   "metadata": {},
   "outputs": [],
   "source": []
  }
 ],
 "metadata": {
  "kernelspec": {
   "display_name": "base",
   "language": "python",
   "name": "base"
  },
  "language_info": {
   "codemirror_mode": {
    "name": "ipython",
    "version": 3
   },
   "file_extension": ".py",
   "mimetype": "text/x-python",
   "name": "python",
   "nbconvert_exporter": "python",
   "pygments_lexer": "ipython3",
   "version": "3.13.2"
  }
 },
 "nbformat": 4,
 "nbformat_minor": 5
}
